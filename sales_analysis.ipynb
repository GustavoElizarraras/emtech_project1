{
 "cells": [
  {
   "cell_type": "markdown",
   "metadata": {},
   "source": [
    "# PROYECTO 1\n",
    "# Autor: Elizarraras Llanos Ángel Gustavo\n",
    "### Grupo: Dataton\n",
    "\n",
    "## INTRODUCCIÓN\n",
    "\n",
    "LifeStore es una tienda virtual que maneja una amplia gama de artículos,\n",
    "recientemente, la Gerencia de ventas, se percató que la empresa tiene una\n",
    "importante acumulación de inventario. Asimismo, se ha identificado una reducción\n",
    "en las búsquedas de un grupo importante de productos, lo que ha redundado en\n",
    "una disminución sustancial de sus ventas del último trimestre. Derivado de la situación, la Gerencia de Ventas te solicita que realices un análisis\n",
    "de la rotación de productos identificando los siguientes elementos:\n",
    "\n",
    "1. Generar un listado de los 50 productos con mayores ventas y uno con los 100 productos con mayor búsquedas.\n",
    "2. Por categoría, generar un listado con los 50 productos con menores ventas y uno con los 100 productos con menores búsquedas.\n",
    "3. Mostrar dos listados de 20 productos cada una, un listado para productos con las mejores reseñas y otro para las peores, considerando los productos con devolución.\n",
    "4. Total de ingresos y ventas promedio mensuales, total anual y meses con más ventas al año\n",
    "\n",
    "## DESARROLLO"
   ]
  },
  {
   "cell_type": "code",
   "execution_count": 83,
   "metadata": {},
   "outputs": [],
   "source": [
    "from lifestore_file import lifestore_products, lifestore_sales, lifestore_searches"
   ]
  },
  {
   "cell_type": "markdown",
   "metadata": {},
   "source": [
    "## Productos con mayores ventas"
   ]
  },
  {
   "cell_type": "code",
   "execution_count": 66,
   "metadata": {},
   "outputs": [
    {
     "name": "stdout",
     "output_type": "stream",
     "text": [
      "[(1, 2), (2, 11), (3, 42), (4, 13), (5, 20), (6, 3), (7, 7), (8, 4), (10, 1), (11, 3), (12, 9), (13, 1), (17, -1), (18, 5), (21, 2), (22, 1), (25, 2), (28, 1), (29, 12), (31, 0), (33, 2), (40, 1), (42, 18), (44, 6), (45, -1), (46, -1), (47, 11), (48, 9), (49, 3), (50, 1), (51, 3), (52, 2), (54, 48), (57, 15), (60, 1), (66, 1), (67, 1), (74, 2), (84, 1), (85, 2), (89, 1), (94, 1)]\n"
     ]
    }
   ],
   "source": [
    "ventas_por_articulo = {}\n",
    "for venta in lifestore_sales:\n",
    "    # El id del producto está en la posición 1 de cada venta\n",
    "    id_producto = venta[1]\n",
    "    # La de está en la posición -1 de cada venta\n",
    "    devolucion = venta[-1]\n",
    "    if id_producto not in ventas_por_articulo.keys() and devolucion == 0:\n",
    "        ventas_por_articulo[id_producto] = 1\n",
    "    # Caso en el que se tenga una devolución como primer registro\n",
    "    elif id_producto not in ventas_por_articulo.keys() and devolucion == 1:\n",
    "        ventas_por_articulo[id_producto] = -1\n",
    "    elif devolucion == 0:\n",
    "        ventas_por_articulo[id_producto] += 1\n",
    "    elif devolucion == 1:\n",
    "        ventas_por_articulo[id_producto] -= 1\n",
    "# transformar a una lista de tuplas con el siguiente significado: (id, ventas)\n",
    "ventas_por_articulo_tuples = list(ventas_por_articulo.items())\n",
    "print(ventas_por_articulo_tuples)"
   ]
  },
  {
   "cell_type": "code",
   "execution_count": 67,
   "metadata": {},
   "outputs": [
    {
     "name": "stdout",
     "output_type": "stream",
     "text": [
      "[(54, 48), (3, 42), (5, 20), (42, 18), (57, 15)]\n"
     ]
    }
   ],
   "source": [
    "orden_por_venta = sorted(ventas_por_articulo_tuples, key=lambda tup: tup[1], reverse=True)\n",
    "cinco_mas_vendidos = orden_por_venta[:5]\n",
    "print(cinco_mas_vendidos)"
   ]
  },
  {
   "cell_type": "code",
   "execution_count": 68,
   "metadata": {},
   "outputs": [
    {
     "name": "stdout",
     "output_type": "stream",
     "text": [
      "Los productos mas vendidos son:\n",
      "Total vendidos: 48 | Producto:  SSD Kingston A400, 120GB, SATA III, 2.5'', 7mm\n",
      "Total vendidos: 42 | Producto:  Procesador AMD Ryzen 5 2600, S-AM4, 3.40GHz, Six-Core, 16MB L3 Cache, con Disipador Wraith Stealth\n",
      "Total vendidos: 20 | Producto:  Procesador Intel Core i3-9100F, S-1151, 3.60GHz, Quad-Core, 6MB Cache (9na. Generación - Coffee Lake)\n",
      "Total vendidos: 18 | Producto:  Tarjeta Madre ASRock Micro ATX B450M Steel Legend, S-AM4, AMD B450, HDMI, 64GB DDR4 para AMD\n",
      "Total vendidos: 15 | Producto:  SSD Adata Ultimate SU800, 256GB, SATA III, 2.5'', 7mm\n"
     ]
    }
   ],
   "source": [
    "print(\"Los productos mas vendidos son:\")\n",
    "for id_producto, venta in cinco_mas_vendidos:\n",
    "    # se resta 1 debido a que los id no inician de 0\n",
    "    print(\"Total vendidos:\", venta, \"| Producto: \", lifestore_products[id_producto - 1][1])\n"
   ]
  },
  {
   "cell_type": "markdown",
   "metadata": {},
   "source": [
    "## Productos con mayores busquedas"
   ]
  },
  {
   "cell_type": "code",
   "execution_count": 69,
   "metadata": {},
   "outputs": [
    {
     "name": "stdout",
     "output_type": "stream",
     "text": [
      "[(1, 2), (2, 13), (3, 42), (4, 13), (5, 20), (6, 3), (7, 7), (8, 4), (10, 1), (11, 3), (12, 9), (13, 1), (17, 1), (18, 5), (21, 2), (22, 1), (25, 2), (28, 1), (29, 14), (31, 6), (33, 2), (40, 1), (42, 18), (44, 6), (45, 1), (46, 1), (47, 11), (48, 9), (49, 3), (50, 1), (51, 3), (52, 2), (54, 50), (57, 15), (60, 1), (66, 1), (67, 1), (74, 2), (84, 1), (85, 2), (89, 1), (94, 1)]\n"
     ]
    }
   ],
   "source": [
    "busquedas_por_id = {}\n",
    "for datos_busqueda in lifestore_sales:\n",
    "    # La categoria del producto está en la posición 3 de cada venta\n",
    "    id_producto = datos_busqueda[1]\n",
    "    if id_producto not in busquedas_por_id.keys():\n",
    "        busquedas_por_id[id_producto] = 1\n",
    "    else:\n",
    "        busquedas_por_id[id_producto] += 1\n",
    "# transformar a una lista de tuplas con el siguiente significado: (id, busquedas)\n",
    "busquedas_por_articulo_tuples = list(busquedas_por_id.items())\n",
    "print(busquedas_por_articulo_tuples)"
   ]
  },
  {
   "cell_type": "code",
   "execution_count": 70,
   "metadata": {},
   "outputs": [
    {
     "name": "stdout",
     "output_type": "stream",
     "text": [
      "[(54, 50), (3, 42), (5, 20), (42, 18), (57, 15), (29, 14), (2, 13), (4, 13), (47, 11), (12, 9)]\n"
     ]
    }
   ],
   "source": [
    "orden_por_busqueda = sorted(busquedas_por_articulo_tuples, key=lambda tup: tup[1], reverse=True)\n",
    "diez_mas_buscados = orden_por_busqueda[:10]\n",
    "print(diez_mas_buscados)"
   ]
  },
  {
   "cell_type": "code",
   "execution_count": 71,
   "metadata": {},
   "outputs": [
    {
     "name": "stdout",
     "output_type": "stream",
     "text": [
      "Los 10 productos mas buscados son:\n",
      "Total busquedas: 50 | Producto:  SSD Kingston A400, 120GB, SATA III, 2.5'', 7mm\n",
      "Total busquedas: 42 | Producto:  Procesador AMD Ryzen 5 2600, S-AM4, 3.40GHz, Six-Core, 16MB L3 Cache, con Disipador Wraith Stealth\n",
      "Total busquedas: 20 | Producto:  Procesador Intel Core i3-9100F, S-1151, 3.60GHz, Quad-Core, 6MB Cache (9na. Generación - Coffee Lake)\n",
      "Total busquedas: 18 | Producto:  Tarjeta Madre ASRock Micro ATX B450M Steel Legend, S-AM4, AMD B450, HDMI, 64GB DDR4 para AMD\n",
      "Total busquedas: 15 | Producto:  SSD Adata Ultimate SU800, 256GB, SATA III, 2.5'', 7mm\n",
      "Total busquedas: 14 | Producto:  Tarjeta Madre ASUS micro ATX TUF B450M-PLUS GAMING, S-AM4, AMD B450, HDMI, 64GB DDR4 para AMD\n",
      "Total busquedas: 13 | Producto:  Procesador AMD Ryzen 5 3600, S-AM4, 3.60GHz, 32MB L3 Cache, con Disipador Wraith Stealth\n",
      "Total busquedas: 13 | Producto:  Procesador AMD Ryzen 3 3200G con Gráficos Radeon Vega 8, S-AM4, 3.60GHz, Quad-Core, 4MB L3, con Disipador Wraith Spire\n",
      "Total busquedas: 11 | Producto:  SSD XPG SX8200 Pro, 256GB, PCI Express, M.2\n",
      "Total busquedas: 9 | Producto:  Tarjeta de Video ASUS NVIDIA GeForce GTX 1660 SUPER EVO OC, 6GB 192-bit GDDR6, PCI Express x16 3.0\n"
     ]
    }
   ],
   "source": [
    "print(\"Los 10 productos mas buscados son:\")\n",
    "for id_producto, busquedas in diez_mas_buscados:\n",
    "    # se resta 1 debido a que los id no inician de 0\n",
    "    print(\"Total busquedas:\", busquedas, \"| Producto: \", lifestore_products[id_producto - 1][1])"
   ]
  },
  {
   "cell_type": "markdown",
   "metadata": {},
   "source": [
    "# Agrupacion por categorias"
   ]
  },
  {
   "cell_type": "code",
   "execution_count": 72,
   "metadata": {},
   "outputs": [
    {
     "name": "stdout",
     "output_type": "stream",
     "text": [
      "{'procesadores': [1, 2, 3, 4, 5, 6, 7, 8, 9], 'tarjetas de video': [10, 11, 12, 13, 14, 15, 16, 17, 18, 19, 20, 21, 22, 23, 24, 25, 26, 27, 28], 'tarjetas madre': [29, 30, 31, 32, 33, 34, 35, 36, 37, 38, 39, 40, 41, 42, 43, 44, 45, 46], 'discos duros': [47, 48, 49, 50, 51, 52, 53, 54, 55, 56, 57, 58, 59], 'memorias usb': [60, 61], 'pantallas': [62, 63, 64, 65, 66, 67, 68, 69, 70, 71, 72, 73], 'bocinas': [74, 75, 76, 77, 78, 79, 80, 81, 82, 83], 'audifonos': [84, 85, 86, 87, 88, 89, 90, 91, 92, 93, 94, 95, 96]}\n"
     ]
    }
   ],
   "source": [
    "categorias = {}\n",
    "for datos_del_producto in lifestore_products:\n",
    "    # La categoria del producto está en la posición 3 de cada venta\n",
    "    categoria = datos_del_producto[3]\n",
    "    # El id producto está en la posición 0 de cada venta\n",
    "    id_producto = datos_del_producto[0]\n",
    "    if categoria not in categorias.keys():\n",
    "        categorias[categoria] = [id_producto]\n",
    "    else:\n",
    "        categorias[categoria].append(id_producto)\n",
    "print(categorias)"
   ]
  },
  {
   "cell_type": "markdown",
   "metadata": {},
   "source": [
    "## Productos con menores ventas por categoria\n"
   ]
  },
  {
   "cell_type": "code",
   "execution_count": 73,
   "metadata": {},
   "outputs": [
    {
     "name": "stdout",
     "output_type": "stream",
     "text": [
      "{1: 2, 2: 11, 3: 42, 4: 13, 5: 20, 6: 3, 7: 7, 8: 4, 10: 1, 11: 3, 12: 9, 13: 1, 17: -1, 18: 5, 21: 2, 22: 1, 25: 2, 28: 1, 29: 12, 31: 0, 33: 2, 40: 1, 42: 18, 44: 6, 45: -1, 46: -1, 47: 11, 48: 9, 49: 3, 50: 1, 51: 3, 52: 2, 54: 48, 57: 15, 60: 1, 66: 1, 67: 1, 74: 2, 84: 1, 85: 2, 89: 1, 94: 1}\n"
     ]
    }
   ],
   "source": [
    "print(ventas_por_articulo)"
   ]
  },
  {
   "cell_type": "code",
   "execution_count": 78,
   "metadata": {},
   "outputs": [
    {
     "name": "stdout",
     "output_type": "stream",
     "text": [
      "Para la categoria:  procesadores  los productos menos vendidos son: \n",
      "No. de ventas:  0 | Producto: Procesador Intel Core i3-8100, S-1151, 3.60GHz, Quad-Core, 6MB Smart Cache (8va. Generación - Coffee Lake)\n",
      "No. de ventas:  2 | Producto: Procesador AMD Ryzen 3 3300X S-AM4, 3.80GHz, Quad-Core, 16MB L2 Cache\n",
      "No. de ventas:  3 | Producto: Procesador Intel Core i9-9900K, S-1151, 3.60GHz, 8-Core, 16MB Smart Cache (9na. Generación Coffee Lake)\n",
      "No. de ventas:  4 | Producto: Procesador Intel Core i5-9600K, S-1151, 3.70GHz, Six-Core, 9MB Smart Cache (9na. Generiación - Coffee Lake)\n",
      "No. de ventas:  7 | Producto: Procesador Intel Core i7-9700K, S-1151, 3.60GHz, 8-Core, 12MB Smart Cache (9na. Generación Coffee Lake)\n",
      "\n",
      "\n",
      "Para la categoria:  tarjetas de video  los productos menos vendidos son: \n",
      "No. de ventas:  -1 | Producto: Tarjeta de Video Gigabyte AMD Radeon R7 370 OC, 2GB 256-bit GDDR5, PCI Express 3.0\n",
      "No. de ventas:  0 | Producto: Tarjeta de Video EVGA NVIDIA GeForce GT 710, 2GB 64-bit GDDR3, PCI Express 2.0\n",
      "No. de ventas:  0 | Producto: Tarjeta de Video EVGA NVIDIA GeForce GTX 1660 Ti SC Ultra Gaming, 6GB 192-bit GDDR6, PCI 3.0\n",
      "No. de ventas:  0 | Producto: Tarjeta de Video EVGA NVIDIA GeForce RTX 2060 SC ULTRA Gaming, 6GB 192-bit GDDR6, PCI Express 3.0\n",
      "No. de ventas:  0 | Producto: Tarjeta de Video Gigabyte NVIDIA GeForce GTX 1650 OC Low Profile, 4GB 128-bit GDDR5, PCI Express 3.0 x16\n",
      "\n",
      "\n",
      "Para la categoria:  tarjetas madre  los productos menos vendidos son: \n",
      "No. de ventas:  -1 | Producto: Tarjeta Madre ASRock ATX H110 Pro BTC+, S-1151, Intel H110, 32GB DDR4, para Intel\n",
      "No. de ventas:  -1 | Producto: Tarjeta Madre Gigabyte micro ATX GA-H110M-DS2, S-1151, Intel H110, 32GB DDR4 para Intel\n",
      "No. de ventas:  0 | Producto: Tarjeta Madre AORUS ATX Z390 ELITE, S-1151, Intel Z390, HDMI, 64GB DDR4 para Intel\n",
      "No. de ventas:  0 | Producto: Tarjeta Madre AORUS micro ATX B450 AORUS M (rev. 1.0), S-AM4, AMD B450, HDMI, 64GB DDR4 para AMD\n",
      "No. de ventas:  0 | Producto: Tarjeta Madre ASRock Z390 Phantom Gaming 4, S-1151, Intel Z390, HDMI, 64GB DDR4 para Intel \n",
      "\n",
      "\n",
      "Para la categoria:  discos duros  los productos menos vendidos son: \n",
      "No. de ventas:  0 | Producto: SSD Addlink Technology S70, 512GB, PCI Express 3.0, M.2\n",
      "No. de ventas:  0 | Producto: SSD para Servidor Supermicro SSD-DM128-SMCMVN1, 128GB, SATA III, mSATA, 6Gbit/s\n",
      "No. de ventas:  0 | Producto: SSD para Servidor Lenovo Thinksystem S4500, 480GB, SATA III, 3.5'', 7mm\n",
      "No. de ventas:  0 | Producto: SSD para Servidor Lenovo Thinksystem S4510, 480GB, SATA III, 2.5'', 7mm\n",
      "No. de ventas:  0 | Producto: SSD Samsung 860 EVO, 1TB, SATA III, M.2\n",
      "\n",
      "\n",
      "Para la categoria:  memorias usb  los productos menos vendidos son: \n",
      "No. de ventas:  0 | Producto: Kit Memoria RAM Corsair Vengeance LPX DDR4, 2400MHz, 32GB, Non-ECC, CL16\n",
      "No. de ventas:  1 | Producto: Kit Memoria RAM Corsair Dominator Platinum DDR4, 3200MHz, 16GB (2x 8GB), Non-ECC, CL16, XMP\n",
      "\n",
      "\n",
      "Para la categoria:  pantallas  los productos menos vendidos son: \n",
      "No. de ventas:  0 | Producto: Makena Smart TV LED 32S2 32'', HD, Widescreen, Gris\n",
      "No. de ventas:  0 | Producto: Seiki TV LED SC-39HS950N 38.5, HD, Widescreen, Negro\n",
      "No. de ventas:  0 | Producto: Samsung TV LED LH43QMREBGCXGO 43, 4K Ultra HD, Widescreen, Negro\n",
      "No. de ventas:  0 | Producto: Samsung Smart TV LED UN70RU7100FXZX 70, 4K Ultra HD, Widescreen, Negro\n",
      "No. de ventas:  0 | Producto: Makena Smart TV LED 40S2 40'', Full HD, Widescreen, Negro\n",
      "\n",
      "\n",
      "Para la categoria:  bocinas  los productos menos vendidos son: \n",
      "No. de ventas:  0 | Producto: Lenovo Barra de Sonido, Alámbrico, 2.5W, USB, Negro\n",
      "No. de ventas:  0 | Producto: Acteck Bocina con Subwoofer AXF-290, Bluetooth, Inalámbrico, 2.1, 18W RMS, 180W PMPO, USB, Negro\n",
      "No. de ventas:  0 | Producto: Verbatim Bocina Portátil Mini, Bluetooth, Inalámbrico, 3W RMS, USB, Blanco\n",
      "No. de ventas:  0 | Producto: Ghia Bocina Portátil BX300, Bluetooth, Inalámbrico, 40W RMS, USB, Rojo - Resistente al Agua\n",
      "No. de ventas:  0 | Producto: Naceb Bocina Portátil NA-0301, Bluetooth, Inalámbrico, USB 2.0, Rojo\n",
      "\n",
      "\n",
      "Para la categoria:  audifonos  los productos menos vendidos son: \n",
      "No. de ventas:  0 | Producto: ASUS Audífonos Gamer ROG Theta 7.1, Alámbrico, USB C, Negro\n",
      "No. de ventas:  0 | Producto: Acer Audífonos Gamer Galea 300, Alámbrico, 3.5mm, Negro\n",
      "No. de ventas:  0 | Producto: Audífonos Gamer Balam Rush Orphix RGB 7.1, Alámbrico, USB, Negro\n",
      "No. de ventas:  0 | Producto: Energy Sistem Audífonos con Micrófono Headphones 1, Bluetooh, Inalámbrico, Negro/Grafito\n",
      "No. de ventas:  0 | Producto: Genius GHP-400S Audífonos, Alámbrico, 1.5 Metros, Rosa\n",
      "\n",
      "\n"
     ]
    }
   ],
   "source": [
    "for categoria, ids in categorias.items():\n",
    "    orden_por_categoria = []\n",
    "    for id_ in ids:\n",
    "        if id_ not in ventas_por_articulo.keys():\n",
    "            ventas_por_articulo[id_] = 0\n",
    "        orden_por_categoria.append((id_, ventas_por_articulo[id_]))\n",
    "    # print(categoria, orden_por_categoria)\n",
    "    ventas_por_categoria = sorted(orden_por_categoria, key=lambda tup: tup[1])\n",
    "    print(\"Para la categoria \", categoria, \", los productos menos vendidos son: \")\n",
    "    for producto in ventas_por_categoria[:5]:\n",
    "        print(\"No. de ventas: \", producto[1], \"| Producto:\", lifestore_products[producto[0] - 1][1])\n",
    "    print(\"\\n\")\n"
   ]
  },
  {
   "cell_type": "markdown",
   "metadata": {},
   "source": [
    "__Los productos que tienen -1 significa que a partir de la fecha que se tiene de registro, solo se tuvieron devoluciones__\n",
    "\n",
    "## Productos menos buscados por categoria"
   ]
  },
  {
   "cell_type": "code",
   "execution_count": 75,
   "metadata": {},
   "outputs": [
    {
     "name": "stdout",
     "output_type": "stream",
     "text": [
      "{1: 2, 2: 13, 3: 42, 4: 13, 5: 20, 6: 3, 7: 7, 8: 4, 10: 1, 11: 3, 12: 9, 13: 1, 17: 1, 18: 5, 21: 2, 22: 1, 25: 2, 28: 1, 29: 14, 31: 6, 33: 2, 40: 1, 42: 18, 44: 6, 45: 1, 46: 1, 47: 11, 48: 9, 49: 3, 50: 1, 51: 3, 52: 2, 54: 50, 57: 15, 60: 1, 66: 1, 67: 1, 74: 2, 84: 1, 85: 2, 89: 1, 94: 1}\n"
     ]
    }
   ],
   "source": [
    "print(busquedas_por_id)"
   ]
  },
  {
   "cell_type": "code",
   "execution_count": 80,
   "metadata": {},
   "outputs": [
    {
     "name": "stdout",
     "output_type": "stream",
     "text": [
      "Para la categoria  procesadores , los productos menos buscados son: \n",
      "No. de busquedas:  0 | Producto: Procesador Intel Core i3-8100, S-1151, 3.60GHz, Quad-Core, 6MB Smart Cache (8va. Generación - Coffee Lake)\n",
      "No. de busquedas:  2 | Producto: Procesador AMD Ryzen 3 3300X S-AM4, 3.80GHz, Quad-Core, 16MB L2 Cache\n",
      "No. de busquedas:  3 | Producto: Procesador Intel Core i9-9900K, S-1151, 3.60GHz, 8-Core, 16MB Smart Cache (9na. Generación Coffee Lake)\n",
      "No. de busquedas:  4 | Producto: Procesador Intel Core i5-9600K, S-1151, 3.70GHz, Six-Core, 9MB Smart Cache (9na. Generiación - Coffee Lake)\n",
      "No. de busquedas:  7 | Producto: Procesador Intel Core i7-9700K, S-1151, 3.60GHz, 8-Core, 12MB Smart Cache (9na. Generación Coffee Lake)\n",
      "\n",
      "\n",
      "Para la categoria  tarjetas de video , los productos menos buscados son: \n",
      "No. de busquedas:  0 | Producto: Tarjeta de Video EVGA NVIDIA GeForce GT 710, 2GB 64-bit GDDR3, PCI Express 2.0\n",
      "No. de busquedas:  0 | Producto: Tarjeta de Video EVGA NVIDIA GeForce GTX 1660 Ti SC Ultra Gaming, 6GB 192-bit GDDR6, PCI 3.0\n",
      "No. de busquedas:  0 | Producto: Tarjeta de Video EVGA NVIDIA GeForce RTX 2060 SC ULTRA Gaming, 6GB 192-bit GDDR6, PCI Express 3.0\n",
      "No. de busquedas:  0 | Producto: Tarjeta de Video Gigabyte NVIDIA GeForce GTX 1650 OC Low Profile, 4GB 128-bit GDDR5, PCI Express 3.0 x16\n",
      "No. de busquedas:  0 | Producto: Tarjeta de Video Gigabyte NVIDIA GeForce RTX 2060 SUPER WINDFORCE OC, 8 GB 256 bit GDDR6, PCI Express x16 3.0\n",
      "\n",
      "\n",
      "Para la categoria  tarjetas madre , los productos menos buscados son: \n",
      "No. de busquedas:  0 | Producto: Tarjeta Madre AORUS ATX Z390 ELITE, S-1151, Intel Z390, HDMI, 64GB DDR4 para Intel\n",
      "No. de busquedas:  0 | Producto: Tarjeta Madre ASRock Z390 Phantom Gaming 4, S-1151, Intel Z390, HDMI, 64GB DDR4 para Intel \n",
      "No. de busquedas:  0 | Producto: Tarjeta Madre ASUS ATX ROG STRIX B550-F GAMING WI-FI, S-AM4, AMD B550, HDMI, max. 128GB DDR4 para AMD\n",
      "No. de busquedas:  0 | Producto: Tarjeta Madre Gigabyte micro ATX Z390 M GAMING, S-1151, Intel Z390, HDMI, 64GB DDR4 para Intel \n",
      "No. de busquedas:  0 | Producto: Tarjeta Madre Gigabyte micro ATX Z490M GAMING X (rev. 1.0), Intel Z490, HDMI, 128GB DDR4 para Intel\n",
      "\n",
      "\n",
      "Para la categoria  discos duros , los productos menos buscados son: \n",
      "No. de busquedas:  0 | Producto: SSD Addlink Technology S70, 512GB, PCI Express 3.0, M.2\n",
      "No. de busquedas:  0 | Producto: SSD para Servidor Supermicro SSD-DM128-SMCMVN1, 128GB, SATA III, mSATA, 6Gbit/s\n",
      "No. de busquedas:  0 | Producto: SSD para Servidor Lenovo Thinksystem S4500, 480GB, SATA III, 3.5'', 7mm\n",
      "No. de busquedas:  0 | Producto: SSD para Servidor Lenovo Thinksystem S4510, 480GB, SATA III, 2.5'', 7mm\n",
      "No. de busquedas:  0 | Producto: SSD Samsung 860 EVO, 1TB, SATA III, M.2\n",
      "\n",
      "\n",
      "Para la categoria  memorias usb , los productos menos buscados son: \n",
      "No. de busquedas:  0 | Producto: Kit Memoria RAM Corsair Vengeance LPX DDR4, 2400MHz, 32GB, Non-ECC, CL16\n",
      "No. de busquedas:  1 | Producto: Kit Memoria RAM Corsair Dominator Platinum DDR4, 3200MHz, 16GB (2x 8GB), Non-ECC, CL16, XMP\n",
      "\n",
      "\n",
      "Para la categoria  pantallas , los productos menos buscados son: \n",
      "No. de busquedas:  0 | Producto: Makena Smart TV LED 32S2 32'', HD, Widescreen, Gris\n",
      "No. de busquedas:  0 | Producto: Seiki TV LED SC-39HS950N 38.5, HD, Widescreen, Negro\n",
      "No. de busquedas:  0 | Producto: Samsung TV LED LH43QMREBGCXGO 43, 4K Ultra HD, Widescreen, Negro\n",
      "No. de busquedas:  0 | Producto: Samsung Smart TV LED UN70RU7100FXZX 70, 4K Ultra HD, Widescreen, Negro\n",
      "No. de busquedas:  0 | Producto: Makena Smart TV LED 40S2 40'', Full HD, Widescreen, Negro\n",
      "\n",
      "\n",
      "Para la categoria  bocinas , los productos menos buscados son: \n",
      "No. de busquedas:  0 | Producto: Lenovo Barra de Sonido, Alámbrico, 2.5W, USB, Negro\n",
      "No. de busquedas:  0 | Producto: Acteck Bocina con Subwoofer AXF-290, Bluetooth, Inalámbrico, 2.1, 18W RMS, 180W PMPO, USB, Negro\n",
      "No. de busquedas:  0 | Producto: Verbatim Bocina Portátil Mini, Bluetooth, Inalámbrico, 3W RMS, USB, Blanco\n",
      "No. de busquedas:  0 | Producto: Ghia Bocina Portátil BX300, Bluetooth, Inalámbrico, 40W RMS, USB, Rojo - Resistente al Agua\n",
      "No. de busquedas:  0 | Producto: Naceb Bocina Portátil NA-0301, Bluetooth, Inalámbrico, USB 2.0, Rojo\n",
      "\n",
      "\n",
      "Para la categoria  audifonos , los productos menos buscados son: \n",
      "No. de busquedas:  0 | Producto: ASUS Audífonos Gamer ROG Theta 7.1, Alámbrico, USB C, Negro\n",
      "No. de busquedas:  0 | Producto: Acer Audífonos Gamer Galea 300, Alámbrico, 3.5mm, Negro\n",
      "No. de busquedas:  0 | Producto: Audífonos Gamer Balam Rush Orphix RGB 7.1, Alámbrico, USB, Negro\n",
      "No. de busquedas:  0 | Producto: Energy Sistem Audífonos con Micrófono Headphones 1, Bluetooh, Inalámbrico, Negro/Grafito\n",
      "No. de busquedas:  0 | Producto: Genius GHP-400S Audífonos, Alámbrico, 1.5 Metros, Rosa\n",
      "\n",
      "\n"
     ]
    }
   ],
   "source": [
    "for categoria, ids in categorias.items():\n",
    "    orden_por_categoria = []\n",
    "    for id_ in ids:\n",
    "        if id_ not in busquedas_por_id.keys():\n",
    "            busquedas_por_id[id_] = 0\n",
    "        orden_por_categoria.append((id_, busquedas_por_id[id_]))\n",
    "    busquedas_por_categoria = sorted(orden_por_categoria, key=lambda tup: tup[1])\n",
    "    print(\"Para la categoria \", categoria, \", los productos menos buscados son: \")\n",
    "    for producto in busquedas_por_categoria[:5]:\n",
    "        print(\"No. de busquedas: \", producto[1], \"| Producto:\", lifestore_products[producto[0] - 1][1]) \n",
    "    print(\"\\n\")"
   ]
  },
  {
   "cell_type": "markdown",
   "metadata": {},
   "source": [
    "# Reseñas \n",
    "## Productos con mejores reseñas\n",
    "\n"
   ]
  },
  {
   "cell_type": "code",
   "execution_count": 89,
   "metadata": {},
   "outputs": [
    {
     "name": "stdout",
     "output_type": "stream",
     "text": [
      "[(1, 5), (2, 4.23), (3, 4.81), (4, 4.46), (5, 4.7), (6, 5), (7, 5), (8, 5), (10, 4), (11, 5), (12, 4.78), (13, 4), (17, 1), (18, 4.4), (21, 5), (22, 5), (25, 5), (28, 5), (29, 4.14), (31, 1.83), (33, 4.5), (40, 5), (42, 4.56), (44, 4.67), (45, 1), (46, 2), (47, 4.55), (48, 4.67), (49, 5), (50, 5), (51, 4.67), (52, 5), (54, 4.72), (57, 4.87), (60, 5), (66, 5), (67, 5), (74, 4.5), (84, 5), (85, 5), (89, 3), (94, 4)]\n"
     ]
    }
   ],
   "source": [
    "import statistics\n",
    "reseñas_por_id = {}\n",
    "for datos_reseña in lifestore_sales:\n",
    "    # El id del producto está en la posición 3 de cada venta\n",
    "    id_producto = datos_reseña[1]\n",
    "    # La reseña del producto está en la posición 2 de cada venta\n",
    "    reseña_producto = datos_reseña[2]\n",
    "    if id_producto not in reseñas_por_id.keys():\n",
    "        reseñas_por_id[id_producto] = [reseña_producto]\n",
    "    else:\n",
    "        reseñas_por_id[id_producto].append(reseña_producto)\n",
    "# promedio de reseñas por articulo id\n",
    "for id_ in reseñas_por_id.keys():\n",
    "    reseñas_por_id[id_] = round(statistics.mean(reseñas_por_id[id_]), 2)\n",
    "# transformar a una lista de tuplas con el siguiente significado: (id, promedio reseña)\n",
    "reseñas_por_articulo_tuples = list(reseñas_por_id.items())\n",
    "print(reseñas_por_articulo_tuples)"
   ]
  },
  {
   "cell_type": "code",
   "execution_count": 92,
   "metadata": {},
   "outputs": [
    {
     "name": "stdout",
     "output_type": "stream",
     "text": [
      "Los articulos mejor calificados son:\n",
      "Calificación:  5 | Producto: Procesador AMD Ryzen 3 3300X S-AM4, 3.80GHz, Quad-Core, 16MB L2 Cache\n",
      "Calificación:  5 | Producto: Procesador Intel Core i9-9900K, S-1151, 3.60GHz, 8-Core, 16MB Smart Cache (9na. Generación Coffee Lake)\n",
      "Calificación:  5 | Producto: Procesador Intel Core i7-9700K, S-1151, 3.60GHz, 8-Core, 12MB Smart Cache (9na. Generación Coffee Lake)\n",
      "Calificación:  5 | Producto: Procesador Intel Core i5-9600K, S-1151, 3.70GHz, Six-Core, 9MB Smart Cache (9na. Generiación - Coffee Lake)\n",
      "Calificación:  5 | Producto: Tarjeta de Video ASUS AMD Radeon RX 570, 4GB 256-bit GDDR5, PCI Express 3.0\n",
      "Calificación:  5 | Producto: Tarjeta de Video MSI AMD Mech Radeon RX 5500 XT MECH Gaming OC, 8GB 128-bit GDDR6, PCI Express 4.0\n",
      "Calificación:  5 | Producto: Tarjeta de Video MSI NVIDIA GeForce GTX 1050 Ti OC, 4GB 128-bit GDDR5, PCI Express x16 3.0\n",
      "Calificación:  5 | Producto: Tarjeta de Video Sapphire AMD Pulse Radeon RX 5500 XT Gaming, 8GB 128-bit GDDR6, PCI Express 4.0\n",
      "Calificación:  5 | Producto: Tarjeta de Video Zotac NVIDIA GeForce GTX 1660 Ti, 6GB 192-bit GDDR6, PCI Express x16 3.0\n",
      "Calificación:  5 | Producto: Tarjeta Madre Gigabyte XL-ATX TRX40 Designare, S-sTRX4, AMD TRX40, 256GB DDR4 para AMD\n"
     ]
    }
   ],
   "source": [
    "orden_reseñas = sorted(reseñas_por_articulo_tuples, key=lambda tup: tup[1], reverse=True)\n",
    "print(\"Los articulos mejor calificados son:\")\n",
    "for producto in orden_reseñas[:10]:\n",
    "    print(\"Calificación: \", producto[1], \"| Producto:\", lifestore_products[producto[0] - 1][1]) "
   ]
  },
  {
   "cell_type": "markdown",
   "metadata": {},
   "source": [
    "## Productos con peores reseñas"
   ]
  },
  {
   "cell_type": "code",
   "execution_count": 96,
   "metadata": {},
   "outputs": [
    {
     "name": "stdout",
     "output_type": "stream",
     "text": [
      "Los articulos peor calificados son:\n",
      "Calificación:  1 | Producto: Tarjeta Madre ASRock ATX H110 Pro BTC+, S-1151, Intel H110, 32GB DDR4, para Intel\n",
      "Calificación:  1 | Producto: Tarjeta de Video Gigabyte AMD Radeon R7 370 OC, 2GB 256-bit GDDR5, PCI Express 3.0\n",
      "Calificación:  1.83 | Producto: Tarjeta Madre AORUS micro ATX B450 AORUS M (rev. 1.0), S-AM4, AMD B450, HDMI, 64GB DDR4 para AMD\n",
      "Calificación:  2 | Producto: Tarjeta Madre Gigabyte micro ATX GA-H110M-DS2, S-1151, Intel H110, 32GB DDR4 para Intel\n",
      "Calificación:  3 | Producto: Cougar Audífonos Gamer Phontum Essential, Alámbrico, 1.9 Metros, 3.5mm, Negro.\n",
      "Calificación:  4 | Producto: HyperX Audífonos Gamer Cloud Flight para PC/PS4/PS4 Pro, Inalámbrico, USB, 3.5mm, Negro\n",
      "Calificación:  4 | Producto: Tarjeta de Video Asus NVIDIA GeForce GTX 1050 Ti Phoenix, 4GB 128-bit GDDR5, PCI Express 3.0\n",
      "Calificación:  4 | Producto: MSI GeForce 210, 1GB GDDR3, DVI, VGA, HDCP, PCI Express 2.0\n",
      "Calificación:  4.14 | Producto: Tarjeta Madre ASUS micro ATX TUF B450M-PLUS GAMING, S-AM4, AMD B450, HDMI, 64GB DDR4 para AMD\n",
      "Calificación:  4.23 | Producto: Procesador AMD Ryzen 5 3600, S-AM4, 3.60GHz, 32MB L3 Cache, con Disipador Wraith Stealth\n",
      "\n",
      "\n"
     ]
    }
   ],
   "source": [
    "print(\"Los articulos peor calificados son:\")\n",
    "for producto in reversed(orden_reseñas[-10:]):\n",
    "    print(\"Calificación: \", producto[1], \"| Producto:\", lifestore_products[producto[0] - 1][1]) "
   ]
  },
  {
   "cell_type": "markdown",
   "metadata": {},
   "source": [
    "## Ingresos anuales (totales)"
   ]
  },
  {
   "cell_type": "code",
   "execution_count": 97,
   "metadata": {},
   "outputs": [
    {
     "name": "stdout",
     "output_type": "stream",
     "text": [
      "Ingresos anuales =  732869\n"
     ]
    }
   ],
   "source": [
    "ingresos = 0\n",
    "for id_producto, vendidos in orden_por_venta:\n",
    "    if vendidos <= -1:\n",
    "        ingresos -= lifestore_products[id_producto - 1][2] *  vendidos\n",
    "    else:\n",
    "        ingresos += lifestore_products[id_producto - 1][2] * vendidos\n",
    "print(\"Ingresos anuales = $\", ingresos)"
   ]
  },
  {
   "cell_type": "markdown",
   "metadata": {},
   "source": [
    "## Meses con más ventas"
   ]
  },
  {
   "cell_type": "code",
   "execution_count": 109,
   "metadata": {},
   "outputs": [
    {
     "name": "stdout",
     "output_type": "stream",
     "text": [
      "Los 5 meses con mayores ventas fueron: \n",
      "El mes 4 tuvo 75 ventas\n",
      "El mes 1 tuvo 53 ventas\n",
      "El mes 3 tuvo 51 ventas\n",
      "El mes 2 tuvo 41 ventas\n",
      "El mes 5 tuvo 36 ventas\n"
     ]
    }
   ],
   "source": [
    "ventas_mes = {}\n",
    "for datos_venta in lifestore_sales:\n",
    "    mes = int(datos_venta[3].split(\"/\")[1])\n",
    "    if mes not in ventas_mes.keys():\n",
    "        ventas_mes[mes] = 1\n",
    "    else:\n",
    "        ventas_mes[mes] += 1\n",
    "ventas_mes_tuple = sorted(list(ventas_mes.items()), key=lambda tup: tup[1], reverse=True)\n",
    "print(\"Los 5 meses con mayores ventas fueron: \")\n",
    "for mes, ventas in ventas_mes_tuple[:5]:\n",
    "    print(f\"El mes {mes} tuvo {ventas} ventas\")"
   ]
  },
  {
   "cell_type": "markdown",
   "metadata": {},
   "source": [
    "Como sugerencia, basado en los datos propuestos, se deberian retirar los productos menos buscados y menos vendidos, para así liberar el inventario y poder ingresar mas objetos que suelen buscar y comprar los clientes."
   ]
  },
  {
   "cell_type": "markdown",
   "metadata": {},
   "source": [
    "# Conclusión\n",
    "Al término de este proyecto pude prácticar mis habilidades en \"vanilla\" Python, ciclos y funciones básicas para poder realizar un análisis de ventas. Realizar una actividad de este estilo me ayudó a tener un acercamiento a la ciencia de datos."
   ]
  }
 ],
 "metadata": {
  "interpreter": {
   "hash": "767d51c1340bd893661ea55ea3124f6de3c7a262a8b4abca0554b478b1e2ff90"
  },
  "kernelspec": {
   "display_name": "Python 3.10.2 64-bit",
   "language": "python",
   "name": "python3"
  },
  "language_info": {
   "codemirror_mode": {
    "name": "ipython",
    "version": 3
   },
   "file_extension": ".py",
   "mimetype": "text/x-python",
   "name": "python",
   "nbconvert_exporter": "python",
   "pygments_lexer": "ipython3",
   "version": "3.10.2"
  },
  "orig_nbformat": 4
 },
 "nbformat": 4,
 "nbformat_minor": 2
}
